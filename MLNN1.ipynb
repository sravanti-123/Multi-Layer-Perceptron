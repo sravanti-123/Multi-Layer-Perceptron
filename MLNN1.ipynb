{
 "cells": [
  {
   "cell_type": "code",
   "execution_count": 1,
   "metadata": {},
   "outputs": [
    {
     "name": "stdout",
     "output_type": "stream",
     "text": [
      "(16, 16)\n"
     ]
    }
   ],
   "source": [
    "#--------------------------------------Approach-1 (257 pixels as input \n",
    "#------------------------------------------------and a integer(1-32) as output)-------------------------\n",
    "import keras\n",
    "from PIL import Image, ImageOps\n",
    "import cv2\n",
    "import numpy as np\n",
    "import glob\n",
    "from sklearn.preprocessing import LabelBinarizer\n",
    "import matplotlib.pyplot as plt\n",
    "from natsort import natsorted\n",
    "from keras.utils.np_utils import to_categorical\n",
    "import tensorflow as tf\n",
    "\n",
    "%matplotlib inline\n",
    "np.random.seed(123)\n",
    "#---------------------These values are later used for making all pixels value either 0 or 1-----------\n",
    "threshold = 127.0\n",
    "max_value = 255.0\n",
    "#----------------------------------------------------------------\n",
    "int_labels = []\n",
    "for i in range(32):\n",
    "    int_labels.append(i)\n",
    "#-----------------------loading training set images into X_train------------------------ \n",
    "filelist_t = natsorted(glob.glob(r'/Users/apple/Desktop/dataseta2/traina2/*.jpeg'))\n",
    "#    making all the values either 0 0r 1\n",
    "X_train = np.array([np.array(Image.open(fname).convert('L')) for fname in filelist_t ])\n",
    "X_train = (X_train > threshold) * max_value\n",
    "X_train = X_train / 255.\n",
    "print (X_train[0].shape)\n",
    "\n",
    "Y_train = to_categorical(int_labels, num_classes = 32)\n",
    "#Y_train = ['A','B','D','E','G','H','I','K','Q','a','b','e','g','h','i','j','m','p','s','t','u','w','x','y','z','1','2','4','5','6','8','0']\n",
    "#-----------------------------------------------------------------\n",
    "#----------------------loading testing set images into X_test------------------------------ \n",
    "filelist = natsorted(glob.glob(r'/Users/apple/Desktop/dataseta2/testa2/*.jpeg'))\n",
    "X_test = np.array([np.array(Image.open(fname).convert('L')) for fname in filelist ])\n",
    "#    making all the values either 0 0r 1\n",
    "X_test = (X_test > threshold) * max_value\n",
    "X_test = X_test.astype(float) / 255.\n",
    "Y_test = to_categorical(int_labels, num_classes = 32)\n",
    "Y_test = np.asarray(Y_test)\n",
    "#Y_test = ['C','F','J','L','M','N','O','P','R','S','T','U','V','W','X','Y','Z','c','d','f','l','n','o','q','r','v','3','7','9',':','!','\"']"
   ]
  },
  {
   "cell_type": "code",
   "execution_count": 2,
   "metadata": {},
   "outputs": [
    {
     "name": "stdout",
     "output_type": "stream",
     "text": [
      "Train dimension:\n",
      "(32, 256)\n",
      "Test dimension:\n",
      "(32, 256)\n"
     ]
    }
   ],
   "source": [
    "#-----------------------Reshaping all the images from 16*16 to 256---------------------------\n",
    "X_train = X_train.reshape((X_train.shape[0],X_train.shape[1]*X_train.shape[2]))\n",
    "X_test = X_test.reshape((X_test.shape[0],X_test.shape[1]*X_test.shape[2]))\n",
    "print('Train dimension:');print(X_train.shape)\n",
    "print('Test dimension:');print(X_test.shape)\n"
   ]
  },
  {
   "cell_type": "code",
   "execution_count": null,
   "metadata": {},
   "outputs": [],
   "source": []
  },
  {
   "cell_type": "code",
   "execution_count": 3,
   "metadata": {},
   "outputs": [],
   "source": []
  },
  {
   "cell_type": "code",
   "execution_count": 4,
   "metadata": {},
   "outputs": [
    {
     "data": {
      "text/plain": [
       "(None, 32)"
      ]
     },
     "execution_count": 4,
     "metadata": {},
     "output_type": "execute_result"
    }
   ],
   "source": [
    "#------------------------Initialise the model-------------------------\n",
    "model = keras.models.Sequential()\n",
    "model.add(keras.Input(shape=(256,)))\n",
    "model.add(keras.layers.Dense(128, activation='relu'))\n",
    "model.add(keras.layers.Dense(128, activation='relu'))\n",
    "model.add(keras.layers.Dense(64, activation='relu'))\n",
    "model.add(keras.layers.Dense(32))\n",
    "model.output_shape"
   ]
  },
  {
   "cell_type": "code",
   "execution_count": 5,
   "metadata": {},
   "outputs": [
    {
     "data": {
      "text/plain": [
       "4.1997156"
      ]
     },
     "execution_count": 5,
     "metadata": {},
     "output_type": "execute_result"
    }
   ],
   "source": [
    "#-------------------------Collecting predictions and intialising \n",
    "#-------------------------------------------------loss function as categorical crossentropy--------------------\n",
    "predictions = model(X_train[:1]).numpy()\n",
    "tf.nn.softmax(predictions).numpy()\n",
    "loss_fn = keras.losses.CategoricalCrossentropy(from_logits=True)\n",
    "loss_fn(Y_train[:1], predictions).numpy()"
   ]
  },
  {
   "cell_type": "code",
   "execution_count": 6,
   "metadata": {},
   "outputs": [
    {
     "name": "stdout",
     "output_type": "stream",
     "text": [
      "Model: \"sequential\"\n",
      "_________________________________________________________________\n",
      "Layer (type)                 Output Shape              Param #   \n",
      "=================================================================\n",
      "dense (Dense)                (None, 128)               32896     \n",
      "_________________________________________________________________\n",
      "dense_1 (Dense)              (None, 128)               16512     \n",
      "_________________________________________________________________\n",
      "dense_2 (Dense)              (None, 64)                8256      \n",
      "_________________________________________________________________\n",
      "dense_3 (Dense)              (None, 32)                2080      \n",
      "=================================================================\n",
      "Total params: 59,744\n",
      "Trainable params: 59,744\n",
      "Non-trainable params: 0\n",
      "_________________________________________________________________\n"
     ]
    }
   ],
   "source": [
    "#-------------------------model summary----------------------\n",
    "model.summary()"
   ]
  },
  {
   "cell_type": "code",
   "execution_count": 7,
   "metadata": {},
   "outputs": [],
   "source": [
    "#---------------------------model compiling and fitting------------------------\n",
    "model.compile(optimizer='SGD',loss=loss_fn,metrics=['accuracy'])\n",
    "model.fit(X_train, Y_train, epochs=500,batch_size=16,validation_split=0.5,validation_data = X_train)"
   ]
  },
  {
   "cell_type": "code",
   "execution_count": 23,
   "metadata": {},
   "outputs": [
    {
     "name": "stdout",
     "output_type": "stream",
     "text": [
      "1/1 [==============================] - 0s 17ms/step - loss: 5.0226 - accuracy: 0.0312\n",
      "1/1 [==============================] - 0s 14ms/step\n",
      "\n",
      "\n",
      "The predictions for given X_test:\n",
      "[ 4  3 14  3  0  2  5  3  7 14  6  5 14 11  0 14 15 11 13  6  6  9 15  5\n",
      "  3 12 14  3  8 14 15  6]\n"
     ]
    }
   ],
   "source": [
    "#---------------------------Evaluating the model------------------------------\n",
    "model.evaluate(X_test, Y_train, verbose =1)\n",
    "Y_pred = []\n",
    "Y_pred = model.predict_classes(X_test, verbose=1)\n",
    "print()\n",
    "print()\n",
    "print (\"The predictions for given X_test:\")\n",
    "print (Y_pred)"
   ]
  },
  {
   "cell_type": "code",
   "execution_count": 10,
   "metadata": {},
   "outputs": [],
   "source": [
    "#---------------------This function calculates ffa-----------------------------------\n",
    "def calculate_ffa(input_image,output_image):\n",
    "    wrong_blacks = 0.0\n",
    "    whites = 0.0\n",
    "    for i in range (256):\n",
    "        if(input_image[i] == 0 and output_image[i]!=0):\n",
    "            wrong_blacks = wrong_blacks + 1\n",
    "    for j in range (256):\n",
    "        if(input_image[j] == 1):\n",
    "            whites = whites + 1        \n",
    "    return wrong_blacks/whites\n",
    "#---------------------This function calculates fh-----------------------------------\n",
    "def calculate_fh(input_image,output_image):\n",
    "    correct_blacks = 0.0\n",
    "    blacks = 0.0\n",
    "    for i in range (256):\n",
    "        if(input_image[i] == 0):\n",
    "            if(output_image[i] == 0):\n",
    "                correct_blacks = correct_blacks + 1\n",
    "    for j in range (256):\n",
    "        if(input_image[j] == 0):\n",
    "            blacks = blacks + 1        \n",
    "    return correct_blacks/blacks    "
   ]
  },
  {
   "cell_type": "code",
   "execution_count": 11,
   "metadata": {},
   "outputs": [],
   "source": [
    "#---------------------This function calculates ffa for noisy images-------------------\n",
    "def calculate_noisy_ffa(input_image,output_image):\n",
    "    wrong_blacks = 0.0\n",
    "    whites = 0.0\n",
    "    for i in range (256):\n",
    "        if(input_image[i] <= 0.5 and output_image[i]>0.5): \n",
    "            # we consider that if value is less than 0.5 then its black else its white\n",
    "            wrong_blacks = wrong_blacks + 1\n",
    "    for j in range (256):\n",
    "        if(input_image[j] > 0.5):\n",
    "            whites = whites + 1        \n",
    "    return wrong_blacks/whites\n",
    "#---------------------This function calculates fh for noisy images-------------------\n",
    "def calculate_noisy_fh(input_image,output_image):\n",
    "    correct_blacks = 0.0\n",
    "    blacks = 0.0\n",
    "    for i in range (256):\n",
    "        if(input_image[i] <= 0.5):# we consider that if value is less than 0.5 then its black else its white\n",
    "            if(output_image[i] <= 0.5):\n",
    "                correct_blacks = correct_blacks + 1\n",
    "    for j in range (256):\n",
    "        if(input_image[j] <= 0.5):\n",
    "            blacks = blacks + 1        \n",
    "    return correct_blacks/blacks"
   ]
  },
  {
   "cell_type": "code",
   "execution_count": 12,
   "metadata": {},
   "outputs": [
    {
     "name": "stdout",
     "output_type": "stream",
     "text": [
      "The ffa values for Noiseless image input:\n",
      "[0.02336448598130841, 0.010101010101010102, 0.22330097087378642, 0.0, 0.15458937198067632, 0.27439024390243905, 0.21839080459770116, 0.1595744680851064, 0.13903743315508021, 0.1778846153846154, 0.08520179372197309, 0.047619047619047616, 0.12272727272727273, 0.2756756756756757, 0.13145539906103287, 0.08597285067873303, 0.14678899082568808, 0.08796296296296297, 0.16145833333333334, 0.11004784688995216, 0.04035874439461883, 0.1595744680851064, 0.2708333333333333, 0.19553072625698323, 0.09615384615384616, 0.1031390134529148, 0.23618090452261306, 0.06944444444444445, 0.1477832512315271, 0.025423728813559324, 0.0990990990990991, 0.09049773755656108]\n",
      "The fh values for Noiseless image input:\n",
      "[0.8809523809523809, 0.9655172413793104, 0.08, 1.0, 0.3469387755102041, 0.5108695652173914, 0.5365853658536586, 0.5588235294117647, 0.6231884057971014, 0.22916666666666666, 0.42424242424242425, 0.8656716417910447, 0.25, 0.28169014084507044, 0.3488372093023256, 0.45714285714285713, 0.15789473684210525, 0.525, 0.515625, 0.5106382978723404, 0.7272727272727273, 0.5588235294117647, 0.1875, 0.5454545454545454, 0.5833333333333334, 0.30303030303030304, 0.17543859649122806, 0.625, 0.4339622641509434, 0.7, 0.35294117647058826, 0.42857142857142855]\n"
     ]
    }
   ],
   "source": [
    "ffa_list = []\n",
    "fh_list = []\n",
    "k=0\n",
    "for i in range(32):\n",
    "    index=Y_pred[k]\n",
    "    ffa_list.append(calculate_ffa(X_test[i],X_train[index]))\n",
    "    fh_list.append(calculate_fh(X_test[i],X_train[index]))\n",
    "    k=k+1\n",
    "print(\"The ffa values for Noiseless image input:\")\n",
    "print (ffa_list)\n",
    "print(\"The fh values for Noiseless image input:\")\n",
    "print (fh_list)"
   ]
  },
  {
   "cell_type": "code",
   "execution_count": 13,
   "metadata": {},
   "outputs": [
    {
     "data": {
      "text/plain": [
       "Text(0.5, 1.0, 'A graph with fh on the ordinate axis and ffa on the abscissa')"
      ]
     },
     "execution_count": 13,
     "metadata": {},
     "output_type": "execute_result"
    },
    {
     "data": {
      "image/png": "[encoded data removed]",
      "text/plain": [
       "<Figure size 432x288 with 1 Axes>"
      ]
     },
     "metadata": {},
     "output_type": "display_data"
    }
   ],
   "source": [
    "#----------------------The ffa vs fh graph plotting-------------\n",
    "%matplotlib inline\n",
    "import matplotlib.pyplot as plt\n",
    "\n",
    "\n",
    "plt.style.use('seaborn-whitegrid')\n",
    "plt.plot(ffa_list,fh_list,'o',color='black', markerfacecolor='none')\n",
    "plt.xticks(np.arange(0,1,0.1))\n",
    "plt.yticks(np.arange(0,1,0.1))\n",
    "#-----------------Naming and labeling the graph---------------------\n",
    "plt.xlabel('Ffa')\n",
    "plt.ylabel('Fh')\n",
    "plt.title('A graph with fh on the ordinate axis and ffa on the abscissa')\n"
   ]
  },
  {
   "cell_type": "code",
   "execution_count": 14,
   "metadata": {},
   "outputs": [
    {
     "data": {
      "image/png": "[encoded data removed]",
      "text/plain": [
       "<Figure size 432x288 with 1 Axes>"
      ]
     },
     "metadata": {},
     "output_type": "display_data"
    },
    {
     "name": "stdout",
     "output_type": "stream",
     "text": [
      "AUC: 0.1353279145728183\n"
     ]
    }
   ],
   "source": [
    "#----------------------------ROC curve for noiseless images------------------\n",
    "X = sorted(ffa_list)\n",
    "Y = sorted(fh_list)\n",
    "plt.plot(X,Y)\n",
    "plt.plot([0, 1], [0, 1], color='navy', linestyle='--')\n",
    "plt.xlabel('Ffa')\n",
    "plt.ylabel('Fh')\n",
    "plt.title('Receiver Operating Characteristics graph for MLNN1')\n",
    "plt.show() \n",
    "\n",
    "#-----------------------------Print AUC (area under the curve)---------------\n",
    "auc = np.trapz(X,Y)\n",
    "print('AUC:', auc)\n"
   ]
  },
  {
   "cell_type": "code",
   "execution_count": 15,
   "metadata": {},
   "outputs": [],
   "source": [
    "#-------------------This is the gaussian noise that will be added to the input dataset-----------------------\n",
    "#----------------------This is traditional additive gaussian noise added to the image------------------------\n",
    "import random\n",
    "def gaussy(X_noisy,std_dev,m):   \n",
    "    X_noisy_temp = np.copy(X_noisy)\n",
    "    random.seed(m)\n",
    "    mean=0.0\n",
    "    random_index=random.sample(range(256), 25)\n",
    "    #print((random_index[0]))  \n",
    "    np.random.seed(m)\n",
    "    gauss=np.random.normal(mean,std_dev,(25,1,1))\n",
    "    gauss=gauss.reshape(25,)\n",
    "    #print(gauss)\n",
    "#--------------------Normalization of pixel values to be in range (0,1)-------------------------------\n",
    "    for j in range(20):\n",
    "        for i in range(25):\n",
    "            noisy_index=random_index[i]\n",
    "            X_noisy_temp[j][noisy_index]=X_noisy_temp[j][noisy_index]+gauss[i]\n",
    "#\n",
    "    for j in range(20):\n",
    "        for i in range(256):\n",
    "            X_noisy_temp[j][i] = (X_noisy_temp[j][i] - np.amin(X_noisy_temp[j]))/(np.amax(X_noisy_temp[j]) - np.amin(X_noisy_temp[j]))\n",
    "     \n",
    "    #print (X_noisy[0])\n",
    "    return X_noisy_temp"
   ]
  },
  {
   "cell_type": "code",
   "execution_count": 16,
   "metadata": {},
   "outputs": [],
   "source": [
    "#----------------Different sets of noisy inputs are generated with different \n",
    "#-------------------------------------Standard Deviation and different seed for random number generator------\n",
    "X_noisy1 = np.copy(X_test)\n",
    "Noisy_1 = gaussy(X_noisy1,0.001,0)\n",
    "Noisy_2 = gaussy(X_noisy1,0.002,1)\n",
    "Noisy_3 = gaussy(X_noisy1,0.003,2)\n",
    "Noisy_4 = gaussy(X_noisy1,0.005,3)\n",
    "Noisy_5 = gaussy(X_noisy1,0.01,4)\n",
    "Noisy_6 = gaussy(X_noisy1,0.02,5)\n",
    "Noisy_7 = gaussy(X_noisy1,0.03,6)\n",
    "Noisy_8 = gaussy(X_noisy1,0.05,7)\n",
    "Noisy_9 = gaussy(X_noisy1,0.1,8)"
   ]
  },
  {
   "cell_type": "code",
   "execution_count": 17,
   "metadata": {},
   "outputs": [
    {
     "name": "stderr",
     "output_type": "stream",
     "text": [
      "/opt/anaconda3/lib/python3.7/site-packages/tensorflow/python/keras/engine/sequential.py:450: UserWarning: `model.predict_classes()` is deprecated and will be removed after 2021-01-01. Please use instead:* `np.argmax(model.predict(x), axis=-1)`,   if your model does multi-class classification   (e.g. if it uses a `softmax` last-layer activation).* `(model.predict(x) > 0.5).astype(\"int32\")`,   if your model does binary classification   (e.g. if it uses a `sigmoid` last-layer activation).\n",
      "  warnings.warn('`model.predict_classes()` is deprecated and '\n"
     ]
    },
    {
     "name": "stdout",
     "output_type": "stream",
     "text": [
      "----------------------------------------------------------------------------------------------------\n"
     ]
    }
   ],
   "source": [
    "#-----------------Below two lists contain all the ffa and fh values of all the noisy levels \n",
    "#------------------------------------------ can be accessed by using [a:b]-------------------------\n",
    "ffa_noisy_list = [] # total 288 values = 32 data  * 9 (noise levels)\n",
    "fh_noisy_list = [] # total 288 values = 32 data * 9 (noise levels)\n",
    "predicts1 = model.predict_classes(Noisy_1)\n",
    "predicts2 = model.predict_classes(Noisy_2)\n",
    "predicts3 = model.predict_classes(Noisy_3)\n",
    "predicts4 = model.predict_classes(Noisy_4)\n",
    "predicts5 = model.predict_classes(Noisy_5)\n",
    "predicts6 = model.predict_classes(Noisy_6)\n",
    "predicts7 = model.predict_classes(Noisy_7)\n",
    "predicts8 = model.predict_classes(Noisy_8)\n",
    "predicts9 = model.predict_classes(Noisy_9)\n",
    "\n",
    "Predicts = [predicts1,predicts2,predicts3,predicts4,predicts5,predicts6,predicts7,predicts8,predicts9] \n",
    "Noisy_list = [Noisy_1,Noisy_2,Noisy_3,Noisy_4,Noisy_5,Noisy_6,Noisy_7,Noisy_8,Noisy_9]\n",
    "#------------------------appending all ffa fh of all noise levels into\n",
    "#----------------------------------------------corresponding ffa_noisy_list and fh_noisy_list---------------------\n",
    "for i,j in zip(Predicts,Noisy_list):\n",
    "    h=0\n",
    "    for k in range(32): \n",
    "        index= i[h]\n",
    "        ffa_noisy_list.append(calculate_noisy_ffa(j[k],X_train[index]))\n",
    "        fh_noisy_list.append(calculate_noisy_fh(j[k],X_train[index]))\n",
    "        h=h+1\n",
    "print('-' * 100)\n",
    "#-----------------------The below are the predictions and their respective labels\n",
    "#-----------------------------------and the correct ouputd are ['A','B','C','D','E'.....,'\"','!']-----------------\n"
   ]
  },
  {
   "cell_type": "code",
   "execution_count": 18,
   "metadata": {},
   "outputs": [
    {
     "data": {
      "image/png": "[encoded data removed]",
      "text/plain": [
       "<Figure size 432x288 with 1 Axes>"
      ]
     },
     "metadata": {},
     "output_type": "display_data"
    }
   ],
   "source": [
    "#----------------------The plotting of the ffa,fh vs SD is implemented below----------------------------\n",
    "\n",
    "%matplotlib inline\n",
    "import matplotlib.pyplot as plt\n",
    "import pylab\n",
    "\n",
    "plt.style.use('seaborn-whitegrid')\n",
    "\n",
    "#---------------------------This is for the Standard deviation 0.001-----------------------------\n",
    "for i in range(0,32):\n",
    "    a = i\n",
    "    b = (i+1) \n",
    "    plt.plot(0.001,fh_noisy_list[a:b], 'o', color='black')\n",
    "    plt.plot(0.001,ffa_noisy_list[a:b], 'o', color='black', markerfacecolor='none')\n",
    "#---------------------------This is for the Standard deviation 0.002-----------------------------\n",
    "for i in range(32,64):\n",
    "    a = i\n",
    "    b = (i+1) \n",
    "    plt.plot(0.002,fh_noisy_list[a:b], 'o', color='black')\n",
    "    plt.plot(0.002,ffa_noisy_list[a:b], 'o', color='black', markerfacecolor='none')\n",
    "#---------------------------This is for the Standard deviation 0.003-----------------------------\n",
    "for i in range(64,96):\n",
    "    a = i\n",
    "    b = (i+1) \n",
    "    plt.plot(0.003,fh_noisy_list[a:b], 'o', color='black')\n",
    "    plt.plot(0.003,ffa_noisy_list[a:b], 'o', color='black', markerfacecolor='none')\n",
    "#---------------------------This is for the Standard deviation 0.005-----------------------------\n",
    "for i in range(96,128):\n",
    "    a = i\n",
    "    b = (i+1) \n",
    "    plt.plot(0.005,fh_noisy_list[a:b], 'o', color='black')\n",
    "    plt.plot(0.005,ffa_noisy_list[a:b], 'o', color='black', markerfacecolor='none')\n",
    "#---------------------------This is for the Standard deviation 0.01-----------------------------\n",
    "for i in range(128,160):\n",
    "    a = i\n",
    "    b = (i+1) \n",
    "    plt.plot(0.01,fh_noisy_list[a:b], 'o', color='black')\n",
    "    plt.plot(0.01,ffa_noisy_list[a:b], 'o', color='black', markerfacecolor='none')\n",
    "#---------------------------This is for the Standard deviation 0.02-----------------------------\n",
    "for i in range(160,192):\n",
    "    a = i\n",
    "    b = (i+1) \n",
    "    plt.plot(0.02,fh_noisy_list[a:b], 'o', color='black')\n",
    "    plt.plot(0.02,ffa_noisy_list[a:b], 'o', color='black', markerfacecolor='none')\n",
    "#---------------------------This is for the Standard deviation 0.03-----------------------------\n",
    "for i in range(192,224):\n",
    "    a = i\n",
    "    b = (i+1) \n",
    "    plt.plot(0.03,fh_noisy_list[a:b], 'o', color='black')\n",
    "    plt.plot(0.03,ffa_noisy_list[a:b], 'o', color='black', markerfacecolor='none')\n",
    "#---------------------------This is for the Standard deviation 0.05-----------------------------\n",
    "for i in range(224,256):\n",
    "    a = i\n",
    "    b = (i+1) \n",
    "    plt.plot(0.05,fh_noisy_list[a:b], 'o', color='black')\n",
    "    plt.plot(0.05,ffa_noisy_list[a:b], 'o', color='black', markerfacecolor='none')\n",
    "#---------------------------This is for the Standard deviation 0.1------------------------------\n",
    "for i in range(256,288):\n",
    "    a = i\n",
    "    b = (i+1) \n",
    "    plt.plot(0.1,fh_noisy_list[a:b], 'o', color='black')\n",
    "    plt.plot(0.1,ffa_noisy_list[a:b], 'o', color='black', markerfacecolor='none')\n",
    "    \n",
    "#--------------The x axis is logarithmically scaled as mentioned in the  requirements----------------    \n",
    "plt.xscale('log')\n",
    "plt.yticks(np.arange(0,1,0.1))\n",
    "plt.xlim([0.0009,0.1101])\n",
    "plt.ylim([0,1])\n",
    "#--------------Naming of the graph------------------\n",
    "plt.xlabel('Gaussian Noise Level, std dev, at 10 pct xsecn')\n",
    "plt.ylabel('Fh and Ffa')\n",
    "plt.title('Graph of Fh (solid) and Ffa (hollow) for hetero-associative multi-layer neural layer network')\n",
    "plt.show()"
   ]
  },
  {
   "cell_type": "code",
   "execution_count": 19,
   "metadata": {},
   "outputs": [
    {
     "data": {
      "image/png": "[encoded data removed]",
      "text/plain": [
       "<Figure size 432x288 with 1 Axes>"
      ]
     },
     "metadata": {},
     "output_type": "display_data"
    },
    {
     "name": "stdout",
     "output_type": "stream",
     "text": [
      "AUC: 0.135377914568168\n"
     ]
    }
   ],
   "source": [
    "#------------------------------Print ROC curve for noisy data levels (1-9)------------- \n",
    "colours = ['red','gray','orange','green','blue','yellow','black','purple','brown']\n",
    "for i,j in zip(range(9),colours):\n",
    "    a = sorted(ffa_noisy_list[i*32:(i+1)*32])\n",
    "    b = sorted(fh_noisy_list[i*32:(i+1)*32])\n",
    "    plt.plot(a,b, color = j)\n",
    "plt.plot([0, 1], [0, 1], color='navy', linestyle='--')\n",
    "plt.xlabel('Ffa')\n",
    "plt.ylabel('Fh')\n",
    "plt.title('Receiver Operating Characteristics graph for MLNN1')\n",
    "plt.show() \n",
    "\n",
    "#------------------------------Print AUC (area under the curve)-----------------------\n",
    "auc = np.trapz(a,b)\n",
    "print('AUC:', auc)\n",
    "#------------------------------As most of the ffa and fh values are similar to each\n",
    "#---------------------------------------------------------other the graphs overlapped below------------------"
   ]
  },
  {
   "cell_type": "code",
   "execution_count": 20,
   "metadata": {},
   "outputs": [
    {
     "name": "stdout",
     "output_type": "stream",
     "text": [
      "The ffa values for Noiseimage input:\n",
      "[0.02336448598130841, 0.010101010101010102, 0.22330097087378642, 0.0, 0.15458937198067632, 0.27439024390243905, 0.21839080459770116, 0.14893617021276595, 0.13903743315508021, 0.1778846153846154, 0.08520179372197309, 0.047619047619047616, 0.12272727272727273, 0.2756756756756757, 0.13145539906103287, 0.08597285067873303, 0.14678899082568808, 0.08796296296296297, 0.16145833333333334, 0.11004784688995216, 0.04035874439461883, 0.1595744680851064, 0.2708333333333333, 0.19553072625698323, 0.09615384615384616, 0.1031390134529148, 0.23618090452261306, 0.06944444444444445, 0.1477832512315271, 0.025423728813559324, 0.0990990990990991, 0.09049773755656108, 0.02336448598130841, 0.010101010101010102, 0.22330097087378642, 0.0, 0.15458937198067632, 0.27439024390243905, 0.21839080459770116, 0.1595744680851064, 0.13903743315508021, 0.1778846153846154, 0.08520179372197309, 0.047619047619047616, 0.12272727272727273, 0.2756756756756757, 0.13145539906103287, 0.08597285067873303, 0.14678899082568808, 0.08796296296296297, 0.16145833333333334, 0.11004784688995216, 0.04035874439461883, 0.1595744680851064, 0.2708333333333333, 0.19553072625698323, 0.09615384615384616, 0.1031390134529148, 0.23618090452261306, 0.06944444444444445, 0.1477832512315271, 0.025423728813559324, 0.0990990990990991, 0.09049773755656108, 0.02336448598130841, 0.010101010101010102, 0.22330097087378642, 0.0, 0.15458937198067632, 0.27439024390243905, 0.21839080459770116, 0.14893617021276595, 0.13903743315508021, 0.1778846153846154, 0.08520179372197309, 0.047619047619047616, 0.12272727272727273, 0.2756756756756757, 0.13145539906103287, 0.08597285067873303, 0.14678899082568808, 0.08796296296296297, 0.16145833333333334, 0.11004784688995216, 0.04035874439461883, 0.1595744680851064, 0.2708333333333333, 0.19553072625698323, 0.09615384615384616, 0.1031390134529148, 0.23618090452261306, 0.06944444444444445, 0.1477832512315271, 0.025423728813559324, 0.0990990990990991, 0.09049773755656108, 0.02336448598130841, 0.010101010101010102, 0.22330097087378642, 0.0, 0.15458937198067632, 0.27439024390243905, 0.21839080459770116, 0.14893617021276595, 0.13903743315508021, 0.1778846153846154, 0.08520179372197309, 0.047619047619047616, 0.12272727272727273, 0.2756756756756757, 0.13145539906103287, 0.08597285067873303, 0.14678899082568808, 0.08796296296296297, 0.16145833333333334, 0.11004784688995216, 0.04035874439461883, 0.1595744680851064, 0.2708333333333333, 0.19553072625698323, 0.09615384615384616, 0.1031390134529148, 0.23618090452261306, 0.06944444444444445, 0.1477832512315271, 0.025423728813559324, 0.0990990990990991, 0.09049773755656108, 0.02336448598130841, 0.010101010101010102, 0.22330097087378642, 0.0, 0.15458937198067632, 0.27439024390243905, 0.21839080459770116, 0.14893617021276595, 0.13903743315508021, 0.1778846153846154, 0.08520179372197309, 0.047619047619047616, 0.12272727272727273, 0.2756756756756757, 0.13145539906103287, 0.08597285067873303, 0.14678899082568808, 0.08796296296296297, 0.16145833333333334, 0.11004784688995216, 0.04035874439461883, 0.1595744680851064, 0.2708333333333333, 0.19553072625698323, 0.09615384615384616, 0.1031390134529148, 0.23618090452261306, 0.06944444444444445, 0.1477832512315271, 0.025423728813559324, 0.0990990990990991, 0.09049773755656108, 0.02336448598130841, 0.010101010101010102, 0.22330097087378642, 0.0, 0.15458937198067632, 0.27439024390243905, 0.21839080459770116, 0.14893617021276595, 0.13903743315508021, 0.1778846153846154, 0.08520179372197309, 0.047619047619047616, 0.1409090909090909, 0.2756756756756757, 0.13145539906103287, 0.08597285067873303, 0.14678899082568808, 0.08796296296296297, 0.16145833333333334, 0.11004784688995216, 0.04035874439461883, 0.1595744680851064, 0.2708333333333333, 0.19553072625698323, 0.09615384615384616, 0.1031390134529148, 0.23618090452261306, 0.06944444444444445, 0.1477832512315271, 0.025423728813559324, 0.0990990990990991, 0.09049773755656108, 0.02336448598130841, 0.010101010101010102, 0.22330097087378642, 0.0, 0.15458937198067632, 0.27439024390243905, 0.21839080459770116, 0.14893617021276595, 0.13903743315508021, 0.1778846153846154, 0.08520179372197309, 0.047619047619047616, 0.12272727272727273, 0.2756756756756757, 0.13145539906103287, 0.08597285067873303, 0.14678899082568808, 0.08796296296296297, 0.16145833333333334, 0.11004784688995216, 0.04035874439461883, 0.1595744680851064, 0.2708333333333333, 0.19553072625698323, 0.09615384615384616, 0.1031390134529148, 0.23618090452261306, 0.06944444444444445, 0.1477832512315271, 0.025423728813559324, 0.0990990990990991, 0.09049773755656108, 0.02336448598130841, 0.010101010101010102, 0.22330097087378642, 0.0, 0.15458937198067632, 0.2804878048780488, 0.21839080459770116, 0.1595744680851064, 0.13903743315508021, 0.1778846153846154, 0.08520179372197309, 0.047619047619047616, 0.12272727272727273, 0.2756756756756757, 0.13145539906103287, 0.08597285067873303, 0.14678899082568808, 0.08796296296296297, 0.16145833333333334, 0.11004784688995216, 0.04035874439461883, 0.1595744680851064, 0.2708333333333333, 0.19553072625698323, 0.09615384615384616, 0.1031390134529148, 0.23618090452261306, 0.06944444444444445, 0.1477832512315271, 0.025423728813559324, 0.0990990990990991, 0.09049773755656108, 0.02336448598130841, 0.010101010101010102, 0.22330097087378642, 0.0, 0.15458937198067632, 0.2804878048780488, 0.21839080459770116, 0.14893617021276595, 0.13903743315508021, 0.1778846153846154, 0.08520179372197309, 0.047619047619047616, 0.12272727272727273, 0.2756756756756757, 0.13145539906103287, 0.08597285067873303, 0.14678899082568808, 0.08796296296296297, 0.16145833333333334, 0.11004784688995216, 0.04035874439461883, 0.1595744680851064, 0.2708333333333333, 0.19553072625698323, 0.09615384615384616, 0.1031390134529148, 0.23618090452261306, 0.06944444444444445, 0.1477832512315271, 0.025423728813559324, 0.0990990990990991, 0.09049773755656108]\n",
      "The fh values for Noise image input:\n",
      "[0.8809523809523809, 0.9655172413793104, 0.08, 1.0, 0.3469387755102041, 0.5108695652173914, 0.5365853658536586, 0.5588235294117647, 0.6231884057971014, 0.22916666666666666, 0.42424242424242425, 0.8656716417910447, 0.25, 0.28169014084507044, 0.3488372093023256, 0.45714285714285713, 0.15789473684210525, 0.525, 0.515625, 0.5106382978723404, 0.7272727272727273, 0.5588235294117647, 0.1875, 0.5454545454545454, 0.5833333333333334, 0.30303030303030304, 0.17543859649122806, 0.625, 0.4339622641509434, 0.7, 0.35294117647058826, 0.42857142857142855]\n"
     ]
    }
   ],
   "source": [
    "print(\"The ffa values for Noiseimage input:\")\n",
    "print (ffa_noisy_list)\n",
    "print(\"The fh values for Noise image input:\")\n",
    "print (fh_list)"
   ]
  },
  {
   "cell_type": "code",
   "execution_count": null,
   "metadata": {},
   "outputs": [],
   "source": []
  },
  {
   "cell_type": "code",
   "execution_count": null,
   "metadata": {},
   "outputs": [],
   "source": []
  },
  {
   "cell_type": "code",
   "execution_count": null,
   "metadata": {},
   "outputs": [],
   "source": []
  },
  {
   "cell_type": "code",
   "execution_count": null,
   "metadata": {},
   "outputs": [],
   "source": []
  },
  {
   "cell_type": "code",
   "execution_count": null,
   "metadata": {},
   "outputs": [],
   "source": []
  },
  {
   "cell_type": "code",
   "execution_count": null,
   "metadata": {},
   "outputs": [],
   "source": []
  },
  {
   "cell_type": "code",
   "execution_count": null,
   "metadata": {},
   "outputs": [],
   "source": []
  }
 ],
 "metadata": {
  "kernelspec": {
   "display_name": "Python 3",
   "language": "python",
   "name": "python3"
  },
  "language_info": {
   "codemirror_mode": {
    "name": "ipython",
    "version": 3
   },
   "file_extension": ".py",
   "mimetype": "text/x-python",
   "name": "python",
   "nbconvert_exporter": "python",
   "pygments_lexer": "ipython3",
   "version": "3.7.6"
  }
 },
 "nbformat": 4,
 "nbformat_minor": 4
}
